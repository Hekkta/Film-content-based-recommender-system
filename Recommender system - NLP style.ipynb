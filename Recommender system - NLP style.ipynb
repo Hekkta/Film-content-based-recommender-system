{
 "cells": [
  {
   "cell_type": "markdown",
   "metadata": {},
   "source": [
    "# Film recommender system - NLP style\n"
   ]
  },
  {
   "cell_type": "markdown",
   "metadata": {},
   "source": [
    "Jo and I are always perplexed as to which film to watch together. To combat this I've made a list of all the films we've watched together and had her rate them with a simple system of 0 = bad, 1 = ok, 2 = good. I hope to be able to make a content based recommender system that we could use to find future films."
   ]
  },
  {
   "cell_type": "markdown",
   "metadata": {},
   "source": [
    "The key ingredient is a massive film database that I found on kaggle from here:\n",
    "\n",
    "https://www.kaggle.com/stefanoleone992/imdb-extensive-dataset\n",
    "\n",
    "Let's take a look at it."
   ]
  },
  {
   "cell_type": "code",
   "execution_count": 1,
   "metadata": {},
   "outputs": [
    {
     "name": "stderr",
     "output_type": "stream",
     "text": [
      "c:\\users\\dave\\appdata\\local\\programs\\python\\python38\\lib\\site-packages\\IPython\\core\\interactiveshell.py:3146: DtypeWarning: Columns (3) have mixed types.Specify dtype option on import or set low_memory=False.\n",
      "  has_raised = await self.run_ast_nodes(code_ast.body, cell_name,\n"
     ]
    },
    {
     "name": "stdout",
     "output_type": "stream",
     "text": [
      "(63432, 22)\n"
     ]
    }
   ],
   "source": [
    "# import modules and data\n",
    "\n",
    "import pandas as pd\n",
    "import numpy as np\n",
    "import re\n",
    "\n",
    "films = pd.read_csv('IMDb movies.csv')\n",
    "\n",
    "# rename the id column for future merging\n",
    "\n",
    "films = films.rename(columns={'imdb_title_id':'Id'})\n",
    "\n",
    "# we run into some memory issues later and so I'm removing all films before 1980 from the list\n",
    "\n",
    "# complicated function to change the year column to just a year that's an integer\n",
    "\n",
    "films['year'] = films['year'].apply(lambda x: int(re.findall(\"[0-9]{4}\", str(x))[0]))\n",
    "\n",
    "films = films[films['year']>1980]\n",
    "\n",
    "print(films.shape)"
   ]
  },
  {
   "cell_type": "code",
   "execution_count": 2,
   "metadata": {},
   "outputs": [
    {
     "data": {
      "text/html": [
       "<div>\n",
       "<style scoped>\n",
       "    .dataframe tbody tr th:only-of-type {\n",
       "        vertical-align: middle;\n",
       "    }\n",
       "\n",
       "    .dataframe tbody tr th {\n",
       "        vertical-align: top;\n",
       "    }\n",
       "\n",
       "    .dataframe thead th {\n",
       "        text-align: right;\n",
       "    }\n",
       "</style>\n",
       "<table border=\"1\" class=\"dataframe\">\n",
       "  <thead>\n",
       "    <tr style=\"text-align: right;\">\n",
       "      <th></th>\n",
       "      <th>index</th>\n",
       "      <th>Id</th>\n",
       "      <th>original_title</th>\n",
       "      <th>description</th>\n",
       "    </tr>\n",
       "  </thead>\n",
       "  <tbody>\n",
       "    <tr>\n",
       "      <th>0</th>\n",
       "      <td>560</td>\n",
       "      <td>tt0017938</td>\n",
       "      <td>La glace à trois faces</td>\n",
       "      <td>Psychological narrative avantgarde film about ...</td>\n",
       "    </tr>\n",
       "    <tr>\n",
       "      <th>1</th>\n",
       "      <td>4334</td>\n",
       "      <td>tt0035423</td>\n",
       "      <td>Kate &amp; Leopold</td>\n",
       "      <td>An English Duke from 1876 is inadvertedly drag...</td>\n",
       "    </tr>\n",
       "    <tr>\n",
       "      <th>2</th>\n",
       "      <td>4653</td>\n",
       "      <td>tt0036606</td>\n",
       "      <td>Another Time, Another Place</td>\n",
       "      <td>Set in 1943 Scotland during World War II, Jani...</td>\n",
       "    </tr>\n",
       "    <tr>\n",
       "      <th>3</th>\n",
       "      <td>13237</td>\n",
       "      <td>tt0062181</td>\n",
       "      <td>Rece do góry</td>\n",
       "      <td>Censored by the Polish authorities, this movie...</td>\n",
       "    </tr>\n",
       "    <tr>\n",
       "      <th>4</th>\n",
       "      <td>14127</td>\n",
       "      <td>tt0064730</td>\n",
       "      <td>Nihon boryoku-dan: Kumicho</td>\n",
       "      <td>Coming out of jail and hoping for a quiet life...</td>\n",
       "    </tr>\n",
       "  </tbody>\n",
       "</table>\n",
       "</div>"
      ],
      "text/plain": [
       "   index         Id               original_title  \\\n",
       "0    560  tt0017938       La glace à trois faces   \n",
       "1   4334  tt0035423               Kate & Leopold   \n",
       "2   4653  tt0036606  Another Time, Another Place   \n",
       "3  13237  tt0062181                 Rece do góry   \n",
       "4  14127  tt0064730   Nihon boryoku-dan: Kumicho   \n",
       "\n",
       "                                         description  \n",
       "0  Psychological narrative avantgarde film about ...  \n",
       "1  An English Duke from 1876 is inadvertedly drag...  \n",
       "2  Set in 1943 Scotland during World War II, Jani...  \n",
       "3  Censored by the Polish authorities, this movie...  \n",
       "4  Coming out of jail and hoping for a quiet life...  "
      ]
     },
     "execution_count": 2,
     "metadata": {},
     "output_type": "execute_result"
    }
   ],
   "source": [
    "# We're only interested in the id, title and description\n",
    "\n",
    "films = films[['Id', 'original_title', 'description']].reset_index()\n",
    "\n",
    "films.head()"
   ]
  },
  {
   "cell_type": "code",
   "execution_count": 3,
   "metadata": {},
   "outputs": [
    {
     "data": {
      "text/plain": [
       "index                0\n",
       "Id                   0\n",
       "original_title       0\n",
       "description       1759\n",
       "dtype: int64"
      ]
     },
     "execution_count": 3,
     "metadata": {},
     "output_type": "execute_result"
    }
   ],
   "source": [
    "# check for NaN values\n",
    "\n",
    "films.isnull().sum()"
   ]
  },
  {
   "cell_type": "code",
   "execution_count": 4,
   "metadata": {},
   "outputs": [
    {
     "data": {
      "text/plain": [
       "index             0\n",
       "Id                0\n",
       "original_title    0\n",
       "description       0\n",
       "dtype: int64"
      ]
     },
     "execution_count": 4,
     "metadata": {},
     "output_type": "execute_result"
    }
   ],
   "source": [
    "# replace NaN values in the description column with empty strings\n",
    "\n",
    "films = films.fillna('')\n",
    "\n",
    "films.isnull().sum()"
   ]
  },
  {
   "cell_type": "code",
   "execution_count": 5,
   "metadata": {},
   "outputs": [
    {
     "data": {
      "text/plain": [
       "<63432x60007 sparse matrix of type '<class 'numpy.float64'>'\n",
       "\twith 1138068 stored elements in Compressed Sparse Row format>"
      ]
     },
     "execution_count": 5,
     "metadata": {},
     "output_type": "execute_result"
    }
   ],
   "source": [
    "# import the vectorizer module\n",
    "\n",
    "from sklearn.feature_extraction.text import TfidfVectorizer\n",
    "\n",
    "# create a sparse matrix from the description column\n",
    "\n",
    "vectorizer = TfidfVectorizer(\n",
    "    min_df=3, # ignore words that occur less than 3 times\n",
    "    max_features=None, # have as many columns as we need\n",
    "    strip_accents='unicode', # strip any accents that are above words\n",
    "    analyzer='word', # take the words\n",
    "    token_pattern=r'\\w{1,}', # stipulate how a word is defined with a regex expression i.e a word with at least 1 letter\n",
    "    ngram_range=(1,3), # define the usable ngram range\n",
    "    stop_words='english' # void words that arn't relevent i.e and\n",
    "    )\n",
    "\n",
    "X = vectorizer.fit_transform(films['description'])\n",
    "\n",
    "X"
   ]
  },
  {
   "cell_type": "code",
   "execution_count": 6,
   "metadata": {},
   "outputs": [],
   "source": [
    "# import tanh function (sigmoid kernal) for a similarity rating\n",
    "\n",
    "from sklearn.metrics.pairwise import sigmoid_kernel\n",
    "\n",
    "# cimpute the similarity matrix\n",
    "\n",
    "sim_mat = sigmoid_kernel(X, X)"
   ]
  },
  {
   "cell_type": "code",
   "execution_count": 7,
   "metadata": {},
   "outputs": [
    {
     "data": {
      "text/plain": [
       "Id\n",
       "tt0017938    0\n",
       "tt0035423    1\n",
       "tt0036606    2\n",
       "tt0062181    3\n",
       "tt0064730    4\n",
       "dtype: int64"
      ]
     },
     "execution_count": 7,
     "metadata": {},
     "output_type": "execute_result"
    }
   ],
   "source": [
    "# create a series of zeros, one for each film in the dataframe\n",
    "\n",
    "final_series = pd.Series([0]*films.shape[0])\n",
    "\n",
    "# create a series of indicies to uickly find the films\n",
    "\n",
    "indicies = pd.Series(films.index, index=films['Id'])\n",
    "\n",
    "indicies.head() # note the indecies seem strange because we dropped a lot of films"
   ]
  },
  {
   "cell_type": "code",
   "execution_count": 8,
   "metadata": {},
   "outputs": [],
   "source": [
    "def add_film_ratings(Id, multiplier):\n",
    "\n",
    "    # get the film's index\n",
    "\n",
    "    idx = indicies[Id]\n",
    "\n",
    "    # convert the array to a list with each film's index\n",
    "\n",
    "    ratings = list(enumerate(sim_mat[idx]))\n",
    "\n",
    "    # sort the films by the rating and put them into a series of their indicies\n",
    "\n",
    "    ratings = pd.Series(sorted(ratings, key=lambda x: x[1],reverse=True)).apply(lambda x: x[0])\n",
    "\n",
    "    # swap the indicies and values and add the values to the final series\n",
    "\n",
    "    return (multiplier * pd.Series(ratings.index.values, index=ratings))"
   ]
  },
  {
   "cell_type": "code",
   "execution_count": 9,
   "metadata": {},
   "outputs": [
    {
     "data": {
      "text/html": [
       "<div>\n",
       "<style scoped>\n",
       "    .dataframe tbody tr th:only-of-type {\n",
       "        vertical-align: middle;\n",
       "    }\n",
       "\n",
       "    .dataframe tbody tr th {\n",
       "        vertical-align: top;\n",
       "    }\n",
       "\n",
       "    .dataframe thead th {\n",
       "        text-align: right;\n",
       "    }\n",
       "</style>\n",
       "<table border=\"1\" class=\"dataframe\">\n",
       "  <thead>\n",
       "    <tr style=\"text-align: right;\">\n",
       "      <th></th>\n",
       "      <th>Film</th>\n",
       "      <th>Response</th>\n",
       "      <th>Id</th>\n",
       "    </tr>\n",
       "  </thead>\n",
       "  <tbody>\n",
       "    <tr>\n",
       "      <th>0</th>\n",
       "      <td>Shutter Island</td>\n",
       "      <td>2</td>\n",
       "      <td>tt1130884</td>\n",
       "    </tr>\n",
       "    <tr>\n",
       "      <th>3</th>\n",
       "      <td>Green Book</td>\n",
       "      <td>2</td>\n",
       "      <td>tt6966692</td>\n",
       "    </tr>\n",
       "    <tr>\n",
       "      <th>4</th>\n",
       "      <td>The Silence of the Lambs</td>\n",
       "      <td>2</td>\n",
       "      <td>tt0102926</td>\n",
       "    </tr>\n",
       "    <tr>\n",
       "      <th>5</th>\n",
       "      <td>Paranormal Activity</td>\n",
       "      <td>0</td>\n",
       "      <td>tt1179904</td>\n",
       "    </tr>\n",
       "    <tr>\n",
       "      <th>6</th>\n",
       "      <td>Saw</td>\n",
       "      <td>1</td>\n",
       "      <td>tt0387564</td>\n",
       "    </tr>\n",
       "  </tbody>\n",
       "</table>\n",
       "</div>"
      ],
      "text/plain": [
       "                       Film  Response         Id\n",
       "0            Shutter Island         2  tt1130884\n",
       "3                Green Book         2  tt6966692\n",
       "4  The Silence of the Lambs         2  tt0102926\n",
       "5       Paranormal Activity         0  tt1179904\n",
       "6                       Saw         1  tt0387564"
      ]
     },
     "execution_count": 9,
     "metadata": {},
     "output_type": "execute_result"
    }
   ],
   "source": [
    "# import Jo's dataframe\n",
    "\n",
    "Jo = pd.read_csv('JosFilms.csv')\n",
    "\n",
    "Jo = Jo.dropna()\n",
    "\n",
    "Jo.head()"
   ]
  },
  {
   "cell_type": "code",
   "execution_count": 10,
   "metadata": {},
   "outputs": [],
   "source": [
    "# iterate through Jo's films and update the final_list\n",
    "\n",
    "# first make an iterable list\n",
    "\n",
    "Jo_iter = [(x, y) for x, y in zip(Jo['Id'], Jo['Response']-1)]\n",
    "\n",
    "# iterate through\n",
    "\n",
    "for film in Jo_iter:\n",
    "    final_series += add_film_ratings(film[0], film[1])"
   ]
  },
  {
   "cell_type": "code",
   "execution_count": 11,
   "metadata": {},
   "outputs": [],
   "source": [
    "# sort the values to find the films\n",
    "\n",
    "final_series = final_series.sort_values()"
   ]
  },
  {
   "cell_type": "code",
   "execution_count": 12,
   "metadata": {},
   "outputs": [
    {
     "data": {
      "text/plain": [
       "array([  566,  2201,   611, ..., 61516, 61927, 62243], dtype=int64)"
      ]
     },
     "execution_count": 12,
     "metadata": {},
     "output_type": "execute_result"
    }
   ],
   "source": [
    "final_series.index.values"
   ]
  },
  {
   "cell_type": "code",
   "execution_count": 18,
   "metadata": {},
   "outputs": [
    {
     "name": "stdout",
     "output_type": "stream",
     "text": [
      "index                                                         20262\n",
      "Id                                                        tt0083564\n",
      "original_title                                                Annie\n",
      "description       A young orphan girl's adventures in finding a ...\n",
      "Name: 566, dtype: object\n",
      "index                                                         21933\n",
      "Id                                                        tt0089123\n",
      "original_title                                              Falfúró\n",
      "description       Budapest, in the 1980's. Géza and his family l...\n",
      "Name: 2201, dtype: object\n",
      "index                                                         20311\n",
      "Id                                                        tt0083693\n",
      "original_title                                  Brimstone & Treacle\n",
      "description       A strange young man has a sinister effect on t...\n",
      "Name: 611, dtype: object\n",
      "index                                                         19165\n",
      "Id                                                        tt0079891\n",
      "original_title                                          Shao Lin si\n",
      "description       A young man, hounded by a psychopathic general...\n",
      "Name: 28, dtype: object\n",
      "index                                                         18186\n",
      "Id                                                        tt0076694\n",
      "original_title                   Yong zheng ming zhang Shao Lin men\n",
      "description       Judy Lee is out to avenge the massacre of her ...\n",
      "Name: 17, dtype: object\n"
     ]
    },
    {
     "data": {
      "text/plain": [
       "0    tt0083564\n",
       "1    tt0089123\n",
       "2    tt0083693\n",
       "3    tt0079891\n",
       "4    tt0076694\n",
       "dtype: object"
      ]
     },
     "execution_count": 18,
     "metadata": {},
     "output_type": "execute_result"
    }
   ],
   "source": [
    "# get the top n films\n",
    "\n",
    "n = 10\n",
    "\n",
    "empty_series = pd.Series([0]*final_series.shape[0])\n",
    "\n",
    "for film in range(final_series.shape[0]):\n",
    "    empty_series[film] = films['Id'][final_series.index[film]]\n",
    "    if film < 5:\n",
    "        print(films.iloc[final_series.index[film],:])\n",
    "    \n",
    "empty_series.head()"
   ]
  },
  {
   "cell_type": "code",
   "execution_count": 25,
   "metadata": {},
   "outputs": [],
   "source": [
    "# drop films that are already in Jo's list\n",
    "\n",
    "for film in list(Jo['Id']):\n",
    "    empty_series = empty_series[empty_series != film]"
   ]
  },
  {
   "cell_type": "code",
   "execution_count": 26,
   "metadata": {},
   "outputs": [],
   "source": [
    "empty_series.to_csv('nlp_films.csv')"
   ]
  },
  {
   "cell_type": "code",
   "execution_count": null,
   "metadata": {},
   "outputs": [],
   "source": []
  }
 ],
 "metadata": {
  "kernelspec": {
   "display_name": "Python 3",
   "language": "python",
   "name": "python3"
  },
  "language_info": {
   "codemirror_mode": {
    "name": "ipython",
    "version": 3
   },
   "file_extension": ".py",
   "mimetype": "text/x-python",
   "name": "python",
   "nbconvert_exporter": "python",
   "pygments_lexer": "ipython3",
   "version": "3.8.6"
  }
 },
 "nbformat": 4,
 "nbformat_minor": 4
}
