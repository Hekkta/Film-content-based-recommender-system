{
 "cells": [
  {
   "cell_type": "markdown",
   "metadata": {},
   "source": [
    "# Recommender system combination style"
   ]
  },
  {
   "cell_type": "markdown",
   "metadata": {},
   "source": [
    "Both of the other lists had good film recommendations but with their own seperate weaknesses. Therefore it seems logcal to put the two lists together to give a final list."
   ]
  },
  {
   "cell_type": "code",
   "execution_count": 1,
   "metadata": {},
   "outputs": [
    {
     "name": "stdout",
     "output_type": "stream",
     "text": [
      "(63377, 2)\n",
      "(63377, 23)\n"
     ]
    }
   ],
   "source": [
    "# import modules and data\n",
    "\n",
    "import pandas as pd\n",
    "import numpy as np\n",
    "\n",
    "regression_df = pd.read_csv('regression_films.csv')\n",
    "\n",
    "nlp_series = pd.read_csv('nlp_films.csv')\n",
    "\n",
    "print(nlp_series.shape)\n",
    "print(regression_df.shape)"
   ]
  },
  {
   "cell_type": "code",
   "execution_count": 2,
   "metadata": {},
   "outputs": [
    {
     "data": {
      "text/html": [
       "<div>\n",
       "<style scoped>\n",
       "    .dataframe tbody tr th:only-of-type {\n",
       "        vertical-align: middle;\n",
       "    }\n",
       "\n",
       "    .dataframe tbody tr th {\n",
       "        vertical-align: top;\n",
       "    }\n",
       "\n",
       "    .dataframe thead th {\n",
       "        text-align: right;\n",
       "    }\n",
       "</style>\n",
       "<table border=\"1\" class=\"dataframe\">\n",
       "  <thead>\n",
       "    <tr style=\"text-align: right;\">\n",
       "      <th></th>\n",
       "      <th>Id</th>\n",
       "      <th>title</th>\n",
       "      <th>original_title</th>\n",
       "      <th>year</th>\n",
       "      <th>date_published</th>\n",
       "      <th>genre</th>\n",
       "      <th>duration</th>\n",
       "      <th>country</th>\n",
       "      <th>language</th>\n",
       "      <th>director</th>\n",
       "      <th>...</th>\n",
       "      <th>description</th>\n",
       "      <th>avg_vote</th>\n",
       "      <th>votes</th>\n",
       "      <th>budget</th>\n",
       "      <th>usa_gross_income</th>\n",
       "      <th>worlwide_gross_income</th>\n",
       "      <th>metascore</th>\n",
       "      <th>reviews_from_users</th>\n",
       "      <th>reviews_from_critics</th>\n",
       "      <th>response</th>\n",
       "    </tr>\n",
       "  </thead>\n",
       "  <tbody>\n",
       "    <tr>\n",
       "      <th>0</th>\n",
       "      <td>tt2788710</td>\n",
       "      <td>The Interview</td>\n",
       "      <td>The Interview</td>\n",
       "      <td>2014</td>\n",
       "      <td>2014-12-24</td>\n",
       "      <td>Action, Adventure, Comedy</td>\n",
       "      <td>112</td>\n",
       "      <td>USA</td>\n",
       "      <td>English, Korean</td>\n",
       "      <td>Evan Goldberg, Seth Rogen</td>\n",
       "      <td>...</td>\n",
       "      <td>Dave Skylark and his producer Aaron Rapaport r...</td>\n",
       "      <td>6.5</td>\n",
       "      <td>301891</td>\n",
       "      <td>$ 44000000</td>\n",
       "      <td>$ 6105175</td>\n",
       "      <td>$ 11782625</td>\n",
       "      <td>52.0</td>\n",
       "      <td>929.0</td>\n",
       "      <td>301.0</td>\n",
       "      <td>2.176884</td>\n",
       "    </tr>\n",
       "    <tr>\n",
       "      <th>1</th>\n",
       "      <td>tt0106226</td>\n",
       "      <td>L'età dell'innocenza</td>\n",
       "      <td>The Age of Innocence</td>\n",
       "      <td>1993</td>\n",
       "      <td>1993-09-10</td>\n",
       "      <td>Drama, Romance</td>\n",
       "      <td>139</td>\n",
       "      <td>USA</td>\n",
       "      <td>English, Italian</td>\n",
       "      <td>Martin Scorsese</td>\n",
       "      <td>...</td>\n",
       "      <td>A tale of nineteenth-century New York high soc...</td>\n",
       "      <td>7.2</td>\n",
       "      <td>50690</td>\n",
       "      <td>$ 34000000</td>\n",
       "      <td>$ 32255440</td>\n",
       "      <td>$ 32255440</td>\n",
       "      <td>90.0</td>\n",
       "      <td>186.0</td>\n",
       "      <td>73.0</td>\n",
       "      <td>2.119740</td>\n",
       "    </tr>\n",
       "    <tr>\n",
       "      <th>2</th>\n",
       "      <td>tt6320628</td>\n",
       "      <td>Spider-Man: Far from Home</td>\n",
       "      <td>Spider-Man: Far from Home</td>\n",
       "      <td>2019</td>\n",
       "      <td>2019-07-10</td>\n",
       "      <td>Action, Adventure, Sci-Fi</td>\n",
       "      <td>129</td>\n",
       "      <td>USA</td>\n",
       "      <td>English, Italian, Czech</td>\n",
       "      <td>Jon Watts</td>\n",
       "      <td>...</td>\n",
       "      <td>Following the events of</td>\n",
       "      <td>7.5</td>\n",
       "      <td>304708</td>\n",
       "      <td>$ 160000000</td>\n",
       "      <td>$ 390532085</td>\n",
       "      <td>$ 1131927996</td>\n",
       "      <td>69.0</td>\n",
       "      <td>2041.0</td>\n",
       "      <td>415.0</td>\n",
       "      <td>2.039769</td>\n",
       "    </tr>\n",
       "  </tbody>\n",
       "</table>\n",
       "<p>3 rows × 23 columns</p>\n",
       "</div>"
      ],
      "text/plain": [
       "          Id                      title             original_title  year  \\\n",
       "0  tt2788710              The Interview              The Interview  2014   \n",
       "1  tt0106226       L'età dell'innocenza       The Age of Innocence  1993   \n",
       "2  tt6320628  Spider-Man: Far from Home  Spider-Man: Far from Home  2019   \n",
       "\n",
       "  date_published                      genre  duration country  \\\n",
       "0     2014-12-24  Action, Adventure, Comedy       112     USA   \n",
       "1     1993-09-10             Drama, Romance       139     USA   \n",
       "2     2019-07-10  Action, Adventure, Sci-Fi       129     USA   \n",
       "\n",
       "                  language                   director  ...  \\\n",
       "0          English, Korean  Evan Goldberg, Seth Rogen  ...   \n",
       "1         English, Italian            Martin Scorsese  ...   \n",
       "2  English, Italian, Czech                  Jon Watts  ...   \n",
       "\n",
       "                                         description avg_vote   votes  \\\n",
       "0  Dave Skylark and his producer Aaron Rapaport r...      6.5  301891   \n",
       "1  A tale of nineteenth-century New York high soc...      7.2   50690   \n",
       "2                            Following the events of      7.5  304708   \n",
       "\n",
       "        budget  usa_gross_income  worlwide_gross_income metascore  \\\n",
       "0   $ 44000000         $ 6105175             $ 11782625      52.0   \n",
       "1   $ 34000000        $ 32255440             $ 32255440      90.0   \n",
       "2  $ 160000000       $ 390532085           $ 1131927996      69.0   \n",
       "\n",
       "  reviews_from_users reviews_from_critics  response  \n",
       "0              929.0                301.0  2.176884  \n",
       "1              186.0                 73.0  2.119740  \n",
       "2             2041.0                415.0  2.039769  \n",
       "\n",
       "[3 rows x 23 columns]"
      ]
     },
     "execution_count": 2,
     "metadata": {},
     "output_type": "execute_result"
    }
   ],
   "source": [
    "# quick look at the data\n",
    "\n",
    "regression_df.head(3)"
   ]
  },
  {
   "cell_type": "code",
   "execution_count": 3,
   "metadata": {},
   "outputs": [
    {
     "data": {
      "text/html": [
       "<div>\n",
       "<style scoped>\n",
       "    .dataframe tbody tr th:only-of-type {\n",
       "        vertical-align: middle;\n",
       "    }\n",
       "\n",
       "    .dataframe tbody tr th {\n",
       "        vertical-align: top;\n",
       "    }\n",
       "\n",
       "    .dataframe thead th {\n",
       "        text-align: right;\n",
       "    }\n",
       "</style>\n",
       "<table border=\"1\" class=\"dataframe\">\n",
       "  <thead>\n",
       "    <tr style=\"text-align: right;\">\n",
       "      <th></th>\n",
       "      <th>Unnamed: 0</th>\n",
       "      <th>0</th>\n",
       "    </tr>\n",
       "  </thead>\n",
       "  <tbody>\n",
       "    <tr>\n",
       "      <th>0</th>\n",
       "      <td>0</td>\n",
       "      <td>tt0083564</td>\n",
       "    </tr>\n",
       "    <tr>\n",
       "      <th>1</th>\n",
       "      <td>1</td>\n",
       "      <td>tt0089123</td>\n",
       "    </tr>\n",
       "    <tr>\n",
       "      <th>2</th>\n",
       "      <td>2</td>\n",
       "      <td>tt0083693</td>\n",
       "    </tr>\n",
       "  </tbody>\n",
       "</table>\n",
       "</div>"
      ],
      "text/plain": [
       "   Unnamed: 0          0\n",
       "0           0  tt0083564\n",
       "1           1  tt0089123\n",
       "2           2  tt0083693"
      ]
     },
     "execution_count": 3,
     "metadata": {},
     "output_type": "execute_result"
    }
   ],
   "source": [
    "nlp_series.head(3)"
   ]
  },
  {
   "cell_type": "code",
   "execution_count": 4,
   "metadata": {},
   "outputs": [],
   "source": [
    "# define the function for adding the two dataframes together\n",
    "\n",
    "def add_index(row):\n",
    "    idx = regression_df[regression_df['Id'] == row[1]].index.values[0]\n",
    "    return idx + row[0]"
   ]
  },
  {
   "cell_type": "code",
   "execution_count": 5,
   "metadata": {},
   "outputs": [
    {
     "data": {
      "text/html": [
       "<div>\n",
       "<style scoped>\n",
       "    .dataframe tbody tr th:only-of-type {\n",
       "        vertical-align: middle;\n",
       "    }\n",
       "\n",
       "    .dataframe tbody tr th {\n",
       "        vertical-align: top;\n",
       "    }\n",
       "\n",
       "    .dataframe thead th {\n",
       "        text-align: right;\n",
       "    }\n",
       "</style>\n",
       "<table border=\"1\" class=\"dataframe\">\n",
       "  <thead>\n",
       "    <tr style=\"text-align: right;\">\n",
       "      <th></th>\n",
       "      <th>Unnamed: 0</th>\n",
       "      <th>0</th>\n",
       "      <th>new_id</th>\n",
       "    </tr>\n",
       "  </thead>\n",
       "  <tbody>\n",
       "    <tr>\n",
       "      <th>0</th>\n",
       "      <td>0</td>\n",
       "      <td>tt0083564</td>\n",
       "      <td>5140</td>\n",
       "    </tr>\n",
       "    <tr>\n",
       "      <th>1</th>\n",
       "      <td>1</td>\n",
       "      <td>tt0089123</td>\n",
       "      <td>35459</td>\n",
       "    </tr>\n",
       "    <tr>\n",
       "      <th>2</th>\n",
       "      <td>2</td>\n",
       "      <td>tt0083693</td>\n",
       "      <td>31674</td>\n",
       "    </tr>\n",
       "    <tr>\n",
       "      <th>3</th>\n",
       "      <td>3</td>\n",
       "      <td>tt0079891</td>\n",
       "      <td>30412</td>\n",
       "    </tr>\n",
       "    <tr>\n",
       "      <th>4</th>\n",
       "      <td>4</td>\n",
       "      <td>tt0076694</td>\n",
       "      <td>30446</td>\n",
       "    </tr>\n",
       "  </tbody>\n",
       "</table>\n",
       "</div>"
      ],
      "text/plain": [
       "   Unnamed: 0          0  new_id\n",
       "0           0  tt0083564    5140\n",
       "1           1  tt0089123   35459\n",
       "2           2  tt0083693   31674\n",
       "3           3  tt0079891   30412\n",
       "4           4  tt0076694   30446"
      ]
     },
     "execution_count": 5,
     "metadata": {},
     "output_type": "execute_result"
    }
   ],
   "source": [
    "# apply the function\n",
    "\n",
    "nlp_series['new_id'] = nlp_series.apply(add_index, axis=1)\n",
    "\n",
    "nlp_series.head()"
   ]
  },
  {
   "cell_type": "code",
   "execution_count": 6,
   "metadata": {},
   "outputs": [
    {
     "data": {
      "text/html": [
       "<div>\n",
       "<style scoped>\n",
       "    .dataframe tbody tr th:only-of-type {\n",
       "        vertical-align: middle;\n",
       "    }\n",
       "\n",
       "    .dataframe tbody tr th {\n",
       "        vertical-align: top;\n",
       "    }\n",
       "\n",
       "    .dataframe thead th {\n",
       "        text-align: right;\n",
       "    }\n",
       "</style>\n",
       "<table border=\"1\" class=\"dataframe\">\n",
       "  <thead>\n",
       "    <tr style=\"text-align: right;\">\n",
       "      <th></th>\n",
       "      <th>Unnamed: 0</th>\n",
       "      <th>0</th>\n",
       "      <th>new_id</th>\n",
       "    </tr>\n",
       "  </thead>\n",
       "  <tbody>\n",
       "    <tr>\n",
       "      <th>31</th>\n",
       "      <td>31</td>\n",
       "      <td>tt0084714</td>\n",
       "      <td>237</td>\n",
       "    </tr>\n",
       "    <tr>\n",
       "      <th>308</th>\n",
       "      <td>308</td>\n",
       "      <td>tt0082245</td>\n",
       "      <td>411</td>\n",
       "    </tr>\n",
       "    <tr>\n",
       "      <th>250</th>\n",
       "      <td>250</td>\n",
       "      <td>tt0084691</td>\n",
       "      <td>493</td>\n",
       "    </tr>\n",
       "    <tr>\n",
       "      <th>78</th>\n",
       "      <td>78</td>\n",
       "      <td>tt0086904</td>\n",
       "      <td>509</td>\n",
       "    </tr>\n",
       "    <tr>\n",
       "      <th>434</th>\n",
       "      <td>434</td>\n",
       "      <td>tt0086036</td>\n",
       "      <td>661</td>\n",
       "    </tr>\n",
       "  </tbody>\n",
       "</table>\n",
       "</div>"
      ],
      "text/plain": [
       "     Unnamed: 0          0  new_id\n",
       "31           31  tt0084714     237\n",
       "308         308  tt0082245     411\n",
       "250         250  tt0084691     493\n",
       "78           78  tt0086904     509\n",
       "434         434  tt0086036     661"
      ]
     },
     "execution_count": 6,
     "metadata": {},
     "output_type": "execute_result"
    }
   ],
   "source": [
    "# sort the films by the new index\n",
    "\n",
    "nlp_series = nlp_series.sort_values(by='new_id')\n",
    "\n",
    "nlp_series.head()"
   ]
  },
  {
   "cell_type": "code",
   "execution_count": 24,
   "metadata": {},
   "outputs": [
    {
     "data": {
      "text/plain": [
       "0                       Split Image\n",
       "1                   Deadly Blessing\n",
       "2                         Six Weeks\n",
       "3                   Another Country\n",
       "4                 Of Unknown Origin\n",
       "                    ...            \n",
       "63372                     Vanamagan\n",
       "63373                Morto Não Fala\n",
       "63374          The Midnight Matinee\n",
       "63375    Amityville: Mt. Misery Rd.\n",
       "63376            Huang jin xiong di\n",
       "Length: 63377, dtype: object"
      ]
     },
     "execution_count": 24,
     "metadata": {},
     "output_type": "execute_result"
    }
   ],
   "source": [
    "# create an iterable list of the new films\n",
    "\n",
    "film_id = list(nlp_series.iloc[:,1])\n",
    "\n",
    "# create an empty series\n",
    "\n",
    "final_list = pd.Series([0]*nlp_series.shape[0])\n",
    "\n",
    "# print the films\n",
    "i=0\n",
    "for film in film_id:\n",
    "    final_list[i] = regression_df[regression_df['Id'] == film].iloc[0,2]\n",
    "    i+=1\n"
   ]
  },
  {
   "cell_type": "code",
   "execution_count": 25,
   "metadata": {},
   "outputs": [
    {
     "data": {
      "text/plain": [
       "0                 Split Image\n",
       "1             Deadly Blessing\n",
       "2                   Six Weeks\n",
       "3             Another Country\n",
       "4           Of Unknown Origin\n",
       "5                       Krull\n",
       "6     Pee-wee's Big Adventure\n",
       "7                   Christine\n",
       "8       The Turn of the Screw\n",
       "9                 The Goonies\n",
       "10                Quicksilver\n",
       "11       Children of the Corn\n",
       "12                     Masoom\n",
       "13                    Missing\n",
       "14                    Agoniya\n",
       "15                 Blood Song\n",
       "16                  Quiz Show\n",
       "17                        Pin\n",
       "18           Just Before Dawn\n",
       "19          Hospital Massacre\n",
       "dtype: object"
      ]
     },
     "execution_count": 25,
     "metadata": {},
     "output_type": "execute_result"
    }
   ],
   "source": [
    "final_list.head(20)"
   ]
  },
  {
   "cell_type": "code",
   "execution_count": null,
   "metadata": {},
   "outputs": [],
   "source": []
  }
 ],
 "metadata": {
  "kernelspec": {
   "display_name": "Python 3",
   "language": "python",
   "name": "python3"
  },
  "language_info": {
   "codemirror_mode": {
    "name": "ipython",
    "version": 3
   },
   "file_extension": ".py",
   "mimetype": "text/x-python",
   "name": "python",
   "nbconvert_exporter": "python",
   "pygments_lexer": "ipython3",
   "version": "3.8.6"
  }
 },
 "nbformat": 4,
 "nbformat_minor": 4
}
